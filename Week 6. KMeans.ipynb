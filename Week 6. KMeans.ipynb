{
 "cells": [
  {
   "cell_type": "markdown",
   "id": "01bacd8f",
   "metadata": {},
   "source": [
    "# KMeans\n",
    "\n",
    "아이리스 데이터셋을 사용해 KMeans 를 implement 해봅시다."
   ]
  },
  {
   "cell_type": "code",
   "execution_count": 1,
   "id": "04367419",
   "metadata": {},
   "outputs": [],
   "source": [
    "import numpy as np\n",
    "import pandas as pd"
   ]
  },
  {
   "cell_type": "markdown",
   "id": "0d74debd",
   "metadata": {},
   "source": [
    "## Using sklearn"
   ]
  },
  {
   "cell_type": "code",
   "execution_count": 2,
   "id": "a50f0348",
   "metadata": {},
   "outputs": [
    {
     "data": {
      "text/plain": [
       "KMeans(max_iter=5, n_clusters=3)"
      ]
     },
     "execution_count": 2,
     "metadata": {},
     "output_type": "execute_result"
    }
   ],
   "source": [
    "from sklearn.cluster import KMeans\n",
    "from sklearn.datasets import load_iris\n",
    "\n",
    "data = load_iris()\n",
    "iris = data['data']\n",
    "\n",
    "km = KMeans(n_clusters = 3, max_iter=5)\n",
    "km.fit(iris)"
   ]
  },
  {
   "cell_type": "markdown",
   "id": "394733a9",
   "metadata": {},
   "source": [
    "이런식으로 KMeans는 n_clusters 를 사전에 지정해 주어야 합니다. 또한, 알고리즘이 무한정 반복하는 것을 방지하기 위해 max_iter 을 지정해 주어야 합니다. "
   ]
  },
  {
   "cell_type": "markdown",
   "id": "4698bdb5",
   "metadata": {},
   "source": [
    "## Procedure\n",
    "\n",
    "The procedure is as follows:\n",
    "\n",
    "1. Randomly select k centroids\n",
    "2. Assign all points to the nearest centroid\n",
    "3. Update centroids\n",
    "4. Repeat until centroids remain fixed"
   ]
  },
  {
   "cell_type": "code",
   "execution_count": 3,
   "id": "df4eb44a",
   "metadata": {},
   "outputs": [],
   "source": [
    "from scipy.spatial import distance\n",
    "from collections import defaultdict"
   ]
  },
  {
   "cell_type": "code",
   "execution_count": 40,
   "id": "4de6318b",
   "metadata": {},
   "outputs": [],
   "source": [
    "class CustomKMeans():\n",
    "    \n",
    "    def __init__(self, n_clusters, max_iter=10, random_state=42):\n",
    "        self.n_clusters = n_clusters\n",
    "        self.max_iter = max_iter\n",
    "        self.random_state = random_state\n",
    "    \n",
    "    def initialize_centroids(self, X):\n",
    "        \n",
    "        # Replication 가능하게 시드를 정해줍시다.\n",
    "        np.random.seed(self.random_state)\n",
    "        centroids = []\n",
    "        \n",
    "        # Randomly select centroids using np.random.choice\n",
    "        centroids = X[np.random.choice(X.shape[0], self.n_clusters, replace=False), :]\n",
    "            \n",
    "        self.centroids = centroids\n",
    "            \n",
    "    def assign_points(self, X):\n",
    "        \n",
    "        self.labels_ = np.array([], dtype=int)\n",
    "        clusters = defaultdict(list)\n",
    "        \n",
    "        '''\n",
    "        For all points in X, \n",
    "        \n",
    "             1. calculate distance to all centroids (distance.cdist)\n",
    "             2. extract the label of the closest centroid (np.argmin)\n",
    "             3. append the label to self.labels_\n",
    "             4. append the point to clusters[label]\n",
    "        \n",
    "        Example output format:\n",
    "        \n",
    "            self.labels : [0, 0, 1, 1, 2]\n",
    "            clusters: {0: [[1,1,1,1], [2,2,2,2]],\n",
    "                       1: [[8,8,8,8], [9,9,9,9]],\n",
    "                       2: [[55,55,55,55]]}\n",
    "        ''' \n",
    "        \n",
    "        for point in X:\n",
    "            \n",
    "            label = np.argmin(distance.cdist([point], self.centroids))\n",
    "            self.labels_ = np.append(self.labels_, label)\n",
    "            clusters[label].append(point)\n",
    "        \n",
    "        for label, cluster in clusters.items():\n",
    "            clusters[label] = np.array(clusters[label])\n",
    "            \n",
    "        self.clusters = clusters\n",
    "            \n",
    "    def update_centroids(self):\n",
    "        \n",
    "        # Initialize new centroids\n",
    "        new_centroids = np.zeros(self.centroids.shape)\n",
    "        \n",
    "        for label, cluster in self.clusters.items():\n",
    "            \n",
    "            # Calculate the new center. The resulting centroid may not exist in the real points\n",
    "            new_centroid = np.mean(cluster, axis=0)   \n",
    "            new_centroids[label] = new_centroid\n",
    "            \n",
    "        return new_centroids\n",
    "    \n",
    "    def fit(self, X):\n",
    "        \n",
    "        assert len(X.shape) == 2, 'Input should be a 2D numpy array'\n",
    "        assert X.shape[0] >= self.n_clusters, 'number of points should be >= k' # = 는 의미가 없겠지만..\n",
    "\n",
    "        # Step 1\n",
    "        self.initialize_centroids(X)\n",
    "        \n",
    "        for iter in range(self.max_iter):\n",
    "\n",
    "            # Step 2\n",
    "            self.assign_points(X)\n",
    "\n",
    "            # Step 3\n",
    "            new_centroids = self.update_centroids()\n",
    "            \n",
    "            # If new centroids are no different from the previous ones, declare convergence\n",
    "            if np.linalg.norm(new_centroids-self.centroids) < 1e-8:\n",
    "                break\n",
    "                \n",
    "            else:\n",
    "                self.centroids = new_centroids\n"
   ]
  },
  {
   "cell_type": "markdown",
   "id": "dbeb5f3c",
   "metadata": {},
   "source": [
    "## Check!"
   ]
  },
  {
   "cell_type": "code",
   "execution_count": 27,
   "id": "33ff82b2",
   "metadata": {},
   "outputs": [],
   "source": [
    "import seaborn as sns\n",
    "import matplotlib.pyplot as plt"
   ]
  },
  {
   "cell_type": "code",
   "execution_count": 41,
   "id": "6dd5f27c",
   "metadata": {},
   "outputs": [],
   "source": [
    "newkm = CustomKMeans(n_clusters=3)\n",
    "newkm.fit(iris)"
   ]
  },
  {
   "cell_type": "code",
   "execution_count": 42,
   "id": "53bf49f7",
   "metadata": {
    "scrolled": true
   },
   "outputs": [
    {
     "name": "stdout",
     "output_type": "stream",
     "text": [
      "From Scratch: (array([0, 1, 2]), array([62, 50, 38]))\n",
      "Sklearn: (array([0, 1, 2], dtype=int32), array([62, 50, 38]))\n"
     ]
    },
    {
     "data": {
      "image/png": "[encoded data removed]",
      "text/plain": [
       "<Figure size 864x288 with 2 Axes>"
      ]
     },
     "metadata": {},
     "output_type": "display_data"
    }
   ],
   "source": [
    "print('From Scratch:', np.unique(newkm.labels_, return_counts=True))\n",
    "print('Sklearn:', np.unique(km.labels_, return_counts=True))\n",
    "\n",
    "fig, ax = plt.subplots(1, 2, figsize=(12, 4))\n",
    "\n",
    "scratch = sns.scatterplot(x=iris[:, 2], y=iris[:, 3], hue = newkm.labels_, ax=ax[0])\n",
    "scratch.set(xticks=[])\n",
    "scratch.set(yticks=[])\n",
    "scratch.set_title('From Scratch')\n",
    "sklearn = sns.scatterplot(x=iris[:, 2], y=iris[:, 3], hue = km.labels_, ax=ax[1])\n",
    "sklearn.set(xticks=[])\n",
    "sklearn.set(yticks=[])\n",
    "sklearn.set_title('From Sklearn')\n",
    "plt.show()"
   ]
  },
  {
   "cell_type": "markdown",
   "id": "2d43d264",
   "metadata": {},
   "source": [
    "Sklearn 이랑 조금 다르지만, 그래도 만족할만 합니다. 하지만, 고전적인 KMeans 는 초기화에 굉장히 민감하다는 단점이 있습니다..."
   ]
  },
  {
   "cell_type": "code",
   "execution_count": 43,
   "id": "db94e154",
   "metadata": {},
   "outputs": [
    {
     "name": "stdout",
     "output_type": "stream",
     "text": [
      "Different seed: (array([0, 1, 2]), array([22, 32, 96]))\n"
     ]
    },
    {
     "data": {
      "image/png": "[encoded data removed]",
      "text/plain": [
       "<Figure size 432x288 with 1 Axes>"
      ]
     },
     "metadata": {},
     "output_type": "display_data"
    }
   ],
   "source": [
    "# 다른 random state\n",
    "\n",
    "newkm = CustomKMeans(n_clusters=3, random_state=43)\n",
    "newkm.fit(iris)\n",
    "\n",
    "print('Different seed:', np.unique(newkm.labels_, return_counts=True))\n",
    "\n",
    "scratch = sns.scatterplot(x=iris[:, 2], y=iris[:, 3], hue = newkm.labels_)\n",
    "scratch.set(xticks=[])\n",
    "scratch.set(yticks=[])\n",
    "scratch.set_title('gae mang ham')\n",
    "plt.show()"
   ]
  },
  {
   "cell_type": "markdown",
   "id": "7bc3a331",
   "metadata": {},
   "source": [
    "이 문제를 해결하기 위해 sklearn 에서는 k-means++ 가 사용되며, 이것도 부족해서 kmeans 를 여러번 (...) 돌려서 최적의 해를 찾습니다."
   ]
  }
 ],
 "metadata": {
  "kernelspec": {
   "display_name": "Python 3 (ipykernel)",
   "language": "python",
   "name": "python3"
  },
  "language_info": {
   "codemirror_mode": {
    "name": "ipython",
    "version": 3
   },
   "file_extension": ".py",
   "mimetype": "text/x-python",
   "name": "python",
   "nbconvert_exporter": "python",
   "pygments_lexer": "ipython3",
   "version": "3.10.4"
  }
 },
 "nbformat": 4,
 "nbformat_minor": 5
}
